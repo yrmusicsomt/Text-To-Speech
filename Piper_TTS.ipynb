{
  "nbformat": 4,
  "nbformat_minor": 0,
  "metadata": {
    "colab": {
      "provenance": []
    },
    "kernelspec": {
      "name": "python3",
      "display_name": "Python 3"
    },
    "language_info": {
      "name": "python"
    }
  },
  "cells": [
    {
      "cell_type": "code",
      "execution_count": null,
      "metadata": {
        "colab": {
          "base_uri": "https://localhost:8080/"
        },
        "id": "kQA_Mu4UXyAa",
        "outputId": "4bb13bb1-8dfa-466c-d10d-92d44f256166"
      },
      "outputs": [
        {
          "output_type": "stream",
          "name": "stdout",
          "text": [
            "Requirement already satisfied: piper-tts in /usr/local/lib/python3.10/dist-packages (1.2.0)\n",
            "Requirement already satisfied: piper-phonemize~=1.1.0 in /usr/local/lib/python3.10/dist-packages (from piper-tts) (1.1.0)\n",
            "Requirement already satisfied: onnxruntime<2,>=1.11.0 in /usr/local/lib/python3.10/dist-packages (from piper-tts) (1.19.2)\n",
            "Requirement already satisfied: coloredlogs in /usr/local/lib/python3.10/dist-packages (from onnxruntime<2,>=1.11.0->piper-tts) (15.0.1)\n",
            "Requirement already satisfied: flatbuffers in /usr/local/lib/python3.10/dist-packages (from onnxruntime<2,>=1.11.0->piper-tts) (24.3.25)\n",
            "Requirement already satisfied: numpy>=1.21.6 in /usr/local/lib/python3.10/dist-packages (from onnxruntime<2,>=1.11.0->piper-tts) (1.26.4)\n",
            "Requirement already satisfied: packaging in /usr/local/lib/python3.10/dist-packages (from onnxruntime<2,>=1.11.0->piper-tts) (24.1)\n",
            "Requirement already satisfied: protobuf in /usr/local/lib/python3.10/dist-packages (from onnxruntime<2,>=1.11.0->piper-tts) (3.20.3)\n",
            "Requirement already satisfied: sympy in /usr/local/lib/python3.10/dist-packages (from onnxruntime<2,>=1.11.0->piper-tts) (1.13.3)\n",
            "Requirement already satisfied: humanfriendly>=9.1 in /usr/local/lib/python3.10/dist-packages (from coloredlogs->onnxruntime<2,>=1.11.0->piper-tts) (10.0)\n",
            "Requirement already satisfied: mpmath<1.4,>=1.1.0 in /usr/local/lib/python3.10/dist-packages (from sympy->onnxruntime<2,>=1.11.0->piper-tts) (1.3.0)\n"
          ]
        }
      ],
      "source": [
        "!pip install piper-tts"
      ]
    },
    {
      "cell_type": "code",
      "source": [
        "!echo 'Welcome to the world of speech synthesis!' | piper --model en_US-lessac-medium --output_file welcome.wav\n"
      ],
      "metadata": {
        "colab": {
          "base_uri": "https://localhost:8080/"
        },
        "id": "1EUl9zc9X1kV",
        "outputId": "faf6e0f4-0323-404d-f17f-9b34b1357a9b"
      },
      "execution_count": null,
      "outputs": [
        {
          "output_type": "stream",
          "name": "stdout",
          "text": [
            "WARNING:piper.download:Wrong size (expected=7010, actual=4885) for /content/en_US-lessac-medium.onnx.json\n",
            "INFO:piper.download:Downloaded /content/en_US-lessac-medium.onnx.json (https://huggingface.co/rhasspy/piper-voices/resolve/v1.0.0/en/en_US/lessac/medium/en_US-lessac-medium.onnx.json)\n"
          ]
        }
      ]
    }
  ]
}